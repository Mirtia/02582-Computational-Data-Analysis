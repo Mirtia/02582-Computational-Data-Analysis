{
 "cells": [
  {
   "cell_type": "code",
   "execution_count": null,
   "metadata": {},
   "outputs": [],
   "source": [
    "import pandas as pd\n",
    "import numpy as np"
   ]
  },
  {
   "cell_type": "code",
   "execution_count": null,
   "metadata": {},
   "outputs": [],
   "source": [
    "data_df = pd.read_csv('data/case1Data.txt', sep=', ')\n",
    "\n",
    "# Features\n",
    "features = list(data_df.columns)\n",
    "cont_features = [x for x in features if 'x' in x]\n",
    "cate_features = [c for c in features if 'C' in c]\n",
    "\n",
    "# Dataframes\n",
    "cont_df = data_df[cont_features]\n",
    "cate_df = data_df[cate_features]\n",
    "\n",
    "data_df"
   ]
  },
  {
   "cell_type": "markdown",
   "metadata": {},
   "source": [
    "# Data Overview"
   ]
  },
  {
   "cell_type": "markdown",
   "metadata": {},
   "source": [
    "## Missing values"
   ]
  },
  {
   "cell_type": "code",
   "execution_count": null,
   "metadata": {},
   "outputs": [],
   "source": [
    "import matplotlib.pyplot as plt\n",
    "\n",
    "# Assuming 'cont_df' is your DataFrame\n",
    "\n",
    "# Calculate the number of missing values per feature\n",
    "missing_values = cont_df.isnull().sum()\n",
    "\n",
    "# Sort the series by index to ensure the features are in ascending order\n",
    "missing_values.sort_index(ascending=True, inplace=True)\n",
    "\n",
    "# Creating the bar plot\n",
    "plt.figure(figsize=(15, 10))  # Adjust the figure size as needed\n",
    "missing_values.plot(kind='bar', color='steelblue')\n",
    "plt.title('Number of Missing Values Per Feature')\n",
    "plt.ylabel('Number of Missing Values')\n",
    "plt.xlabel('Features')\n",
    "\n",
    "# Customizing x-ticks to show only every 5th feature name\n",
    "xticks_labels = [label if int(label.split('_')[-1]) % 5 == 0 else '' for label in missing_values.index]\n",
    "plt.xticks(ticks=range(len(missing_values)), labels=xticks_labels, rotation=45, ha='right')\n",
    "\n",
    "# Ensure the layout is tight so the labels are not cut off\n",
    "plt.tight_layout()\n",
    "\n",
    "# Display the plot\n",
    "plt.show()\n"
   ]
  },
  {
   "cell_type": "code",
   "execution_count": null,
   "metadata": {},
   "outputs": [],
   "source": [
    "import matplotlib.pyplot as plt\n",
    "\n",
    "# Calculate the number of missing values per row\n",
    "missing_values_per_row = cont_df.isnull().sum(axis=1)\n",
    "\n",
    "# Sort the missing values per row if you want a sorted visualization\n",
    "# missing_values_per_row.sort_values(ascending=True, inplace=True)\n",
    "\n",
    "plt.figure(figsize=(15, 10))  # Adjust the figure size as needed\n",
    "\n",
    "# Create a bar plot for missing values per row. Note: This might not be practical for datasets with a large number of rows.\n",
    "missing_values_per_row.plot(kind='bar', color='coral')\n",
    "plt.title('Number of Missing Values Per Row')\n",
    "plt.ylabel('Number of Missing Values')\n",
    "plt.xlabel('Row Index')\n",
    "\n",
    "# Due to potentially large number of rows, it might be more insightful to use a histogram or customize the visualization further\n",
    "plt.tight_layout()\n",
    "\n",
    "# Display the plot\n",
    "plt.show()\n"
   ]
  },
  {
   "cell_type": "code",
   "execution_count": null,
   "metadata": {},
   "outputs": [],
   "source": [
    "# Assuming missing_values contains the count of missing values per feature\n",
    "plt.figure(figsize=(10, 6))\n",
    "plt.hist(missing_values, bins=range(0, missing_values.max() + 2, 1), color='skyblue', edgecolor='black', align='left')\n",
    "\n",
    "# Mean\n",
    "mean_miss = missing_values.mean()\n",
    "plt.axvline(mean_miss, color='r', linestyle='--', label=f'Mean: {mean_miss:.2f}')\n",
    "plt.axvline(21.5, color='r', linestyle='--', label=f'zscore>2') # for visualization purposes in the report\n",
    "plt.legend()\n",
    "\n",
    "plt.title('Histogram of Missing Values Count per Feature')\n",
    "plt.xlabel('Number of Missing Values')\n",
    "plt.ylabel('Frequency of Features')\n",
    "\n",
    "# Display the histogram\n",
    "plt.show()\n"
   ]
  },
  {
   "cell_type": "code",
   "execution_count": null,
   "metadata": {},
   "outputs": [],
   "source": [
    "# Outliers\n",
    "z_scores_missing = (missing_values - missing_values.mean()) / missing_values.std()\n",
    "excl_features =  list(z_scores_missing[z_scores_missing > 2].index)\n",
    "data_df[excl_features].isna().sum()"
   ]
  },
  {
   "cell_type": "markdown",
   "metadata": {},
   "source": [
    "## Correlation"
   ]
  },
  {
   "cell_type": "code",
   "execution_count": null,
   "metadata": {},
   "outputs": [],
   "source": [
    "import pandas as pd\n",
    "import seaborn as sns\n",
    "import matplotlib.pyplot as plt\n",
    "\n",
    "# Assuming `df` is your DataFrame\n",
    "# Calculate the correlation matrix\n",
    "corr = cont_df.corr()\n",
    "\n",
    "# Set up the matplotlib figure\n",
    "plt.figure(figsize=(20, 8))\n",
    "\n",
    "# Draw the heatmap without the annotations\n",
    "sns.heatmap(corr, cmap='coolwarm', cbar_kws={\"shrink\": .5}, vmin=-1, vmax=1)\n",
    "\n",
    "# Optional: Adjust the layout\n",
    "plt.xticks(rotation=45, ha='right')\n",
    "plt.yticks(rotation=45)\n",
    "plt.tight_layout()\n",
    "\n",
    "plt.show()\n"
   ]
  },
  {
   "cell_type": "code",
   "execution_count": null,
   "metadata": {},
   "outputs": [],
   "source": [
    "# Flatten the correlation matrix and reset index\n",
    "corr_flat = corr.abs().unstack().reset_index()\n",
    "# Rename columns for clarity\n",
    "corr_flat.columns = ['Feature1', 'Feature2', 'Correlation']\n",
    "# Remove self-correlations (where features are the same)\n",
    "corr_flat = corr_flat[corr_flat['Feature1'] != corr_flat['Feature2']]\n",
    "# Sort by correlation, descending\n",
    "corr_sorted = corr_flat.sort_values(by='Correlation', ascending=False)\n",
    "corr_sorted = corr_sorted[corr_sorted['Feature1'] < corr_sorted['Feature2']]\n",
    "\n",
    "# Display the top N correlations\n",
    "N = 10 \n",
    "print(corr_sorted.head(N))\n"
   ]
  },
  {
   "cell_type": "code",
   "execution_count": null,
   "metadata": {},
   "outputs": [],
   "source": [
    "import numpy as np\n",
    "\n",
    "# Flatten the correlation matrix to a Series, remove self-correlation, and take absolute values\n",
    "corr_values_flat = corr.abs().where(np.triu(np.ones(corr.shape), k=1).astype(bool)).stack()\n",
    "bin = 0.01\n",
    "\n",
    "# Plotting the histogram\n",
    "plt.figure(figsize=(10, 6))\n",
    "plt.hist(corr_values_flat, bins=np.arange(-1, 1.1, bin), color='skyblue', edgecolor='black')\n",
    "plt.title(f'Histogram of Absolute Correlation Coefficients {bin} bin')\n",
    "plt.xlabel('Correlation coefficient')\n",
    "plt.ylabel('Frequency')\n",
    "\n",
    "# Correlation mean\n",
    "mean_corr = corr_values_flat.mean()\n",
    "plt.axvline(mean_corr, color='r', linestyle='--', label=f'Mean: {mean_corr:.2f}')\n",
    "plt.legend()\n",
    "\n",
    "# Display the histogram\n",
    "plt.show()\n"
   ]
  },
  {
   "cell_type": "markdown",
   "metadata": {},
   "source": [
    "# Outliers"
   ]
  },
  {
   "cell_type": "code",
   "execution_count": null,
   "metadata": {},
   "outputs": [],
   "source": [
    "from scipy.stats import zscore\n",
    "\n",
    "cont_df_filled = cont_df.fillna(cont_df.median())\n",
    "# Apply Z-score normalization across the DataFrame (axis=0 for column-wise)\n",
    "z_scores_df = cont_df_filled.apply(zscore)\n",
    "extreme_values_mask = (z_scores_df.abs() > 3)\n",
    "# Count occurrences for each feature\n",
    "extreme_value_counts = extreme_values_mask.sum(axis=0)\n",
    "# Filter out features with 0 occurrences\n",
    "extreme_value_counts_filtered = extreme_value_counts[extreme_value_counts > 0]\n",
    "\n",
    "import matplotlib.pyplot as plt\n"
   ]
  },
  {
   "cell_type": "code",
   "execution_count": null,
   "metadata": {},
   "outputs": [],
   "source": [
    "import matplotlib.pyplot as plt\n",
    "\n",
    "# Creating the bar plot with filtered data\n",
    "plt.figure(figsize=(15, 10))  # Adjust the size as necessary\n",
    "extreme_value_counts_filtered.plot(kind='bar', color='steelblue')\n",
    "plt.title('Counts of Values with Z-Score > 3 by Feature (Filtered)')\n",
    "plt.ylabel('Count of Extreme Values')\n",
    "plt.xlabel('Features')\n",
    "plt.xticks(rotation=45, ha='right')  # Rotate feature names for better readability\n",
    "\n",
    "# Ensure the layout is tight so labels are not cut off\n",
    "plt.tight_layout()\n",
    "\n",
    "# Display \n",
    "plt.show()"
   ]
  },
  {
   "cell_type": "markdown",
   "metadata": {},
   "source": [
    "# Categorical"
   ]
  },
  {
   "cell_type": "code",
   "execution_count": null,
   "metadata": {},
   "outputs": [],
   "source": [
    "unique_counts = cate_df.nunique()\n",
    "unique_counts.plot(kind='bar', figsize=(10, 6), color='skyblue', edgecolor='black')\n",
    "plt.ylabel('Unique Value Count')\n",
    "plt.title('Unique Value Count for Each Feature')\n",
    "plt.xticks(rotation=45)\n",
    "plt.grid(axis='y', linestyle='--', linewidth=0.7)\n",
    "plt.show()"
   ]
  },
  {
   "cell_type": "code",
   "execution_count": null,
   "metadata": {},
   "outputs": [],
   "source": [
    "excl_features.append('C_ 2')"
   ]
  },
  {
   "cell_type": "code",
   "execution_count": null,
   "metadata": {},
   "outputs": [],
   "source": [
    "cate_df.isna().sum()"
   ]
  },
  {
   "cell_type": "code",
   "execution_count": null,
   "metadata": {},
   "outputs": [],
   "source": [
    "excl_features.append('C_ 1')"
   ]
  },
  {
   "cell_type": "markdown",
   "metadata": {},
   "source": [
    "# Model"
   ]
  },
  {
   "cell_type": "markdown",
   "metadata": {},
   "source": [
    "## Data"
   ]
  },
  {
   "cell_type": "code",
   "execution_count": null,
   "metadata": {},
   "outputs": [],
   "source": [
    "# Exclude features with many missing values\n",
    "include_features = [x for x in data_df.columns if x not in excl_features]\n",
    "filtered_df = data_df[include_features]\n",
    "\n",
    "# Fill missing values with the median of the feature\n",
    "cont_features_filtered = [x for x in include_features if 'x' in x]\n",
    "filtered_df[cont_features_filtered] = filtered_df[cont_features_filtered].fillna(filtered_df[cont_features_filtered].median())\n",
    "\n",
    "# One hot encoding\n",
    "cate_features_filtered = [x for x in include_features if 'C' in x]\n",
    "filtered_df = pd.get_dummies(filtered_df, columns=cate_features_filtered)\n",
    "dummy_features = [x for x in filtered_df.columns if 'C' in x]\n",
    "filtered_df[dummy_features] = filtered_df[dummy_features].astype(int)\n",
    "filtered_df.head(5)"
   ]
  },
  {
   "cell_type": "code",
   "execution_count": null,
   "metadata": {},
   "outputs": [],
   "source": [
    "from sklearn.preprocessing import StandardScaler\n",
    "from sklearn.model_selection import train_test_split\n",
    "\n",
    "# Split to X and Y\n",
    "X = filtered_df.iloc[:, 1:]  # Feature matrix\n",
    "y = filtered_df.iloc[:, 0]   # Target variable\n",
    "\n",
    "# Standarize the continous variables\n",
    "cont_X_df = X[cont_features_filtered]\n",
    "scaler = StandardScaler()\n",
    "cont_X_scaled = scaler.fit_transform(cont_X_df)\n",
    "\n",
    "# Concatenate final X\n",
    "X_scaled = np.concatenate([cont_X_scaled, X[dummy_features].to_numpy()], axis=1)\n",
    "\n",
    "# Split the data into training and testing sets\n",
    "X_train, X_test, y_train, y_test = train_test_split(X_scaled, y, test_size=0.2, random_state=42)"
   ]
  },
  {
   "cell_type": "code",
   "execution_count": null,
   "metadata": {},
   "outputs": [],
   "source": [
    "# First search(broad)\n",
    "\n",
    "from sklearn.model_selection import GridSearchCV\n",
    "from sklearn.linear_model import ElasticNet\n",
    "\n",
    "# Define the model\n",
    "elastic_net = ElasticNet(max_iter=50000, random_state=42)\n",
    "\n",
    "# Define a range of lambda values (alpha in scikit-learn terms) to explore\n",
    "# Note: The term \"l1_ratio\" in scikit-learn corresponds to alpha in Elastic Net formulation\n",
    "alpha_range = np.logspace(0, 100, 200)  # Regularization strength\n",
    "l1_range = np.linspace(0.1, 0.8, 20)  # Mix between L1 and L2 regularization\n",
    "\n",
    "# Setup the grid search\n",
    "param_grid = {\n",
    "    'alpha': alpha_range,  # Regularization strength\n",
    "    'l1_ratio': l1_range,  # Mix between L1 and L2 regularization\n",
    "}\n",
    "\n",
    "import warnings\n",
    "with warnings.catch_warnings(): # done to disable all the convergence warnings from elastic net\n",
    "    warnings.simplefilter(\"ignore\")\n",
    "    grid_search = GridSearchCV(estimator=elastic_net, param_grid=param_grid, cv=5, scoring='neg_mean_squared_error')\n",
    "\n",
    "# Fit the model\n",
    "grid_search.fit(X_train, y_train)\n",
    "\n",
    "# Best parameters found\n",
    "# Get the best parameters from the broad search\n",
    "best_alpha_broad = grid_search.best_params_['alpha']\n",
    "best_l1_ratio_broad = grid_search.best_params_['l1_ratio']\n",
    "print(\"Best parameters found: \", grid_search.best_params_)\n",
    "print(\"Best score found: \", grid_search.best_score_)\n",
    "\n",
    "# You can now use grid_search.best_estimator_ to make predictions\n",
    "y_pred = grid_search.predict(X_test)\n",
    "\n",
    "# Evaluate the performance of the model\n",
    "from sklearn.metrics import mean_squared_error\n",
    "print(\"Test MSE: \", mean_squared_error(y_test, y_pred))"
   ]
  },
  {
   "cell_type": "code",
   "execution_count": null,
   "metadata": {},
   "outputs": [],
   "source": [
    "cv_results = grid_search.cv_results_\n",
    "for mean_score, params in zip(cv_results[\"mean_test_score\"], cv_results[\"params\"]):\n",
    "    print(\"MSE:\", -mean_score, \"for\", params)"
   ]
  },
  {
   "cell_type": "code",
   "execution_count": null,
   "metadata": {},
   "outputs": [],
   "source": [
    "# Second Search(narrow)\n",
    "\n",
    "# Define a narrower range centered around the best broad results\n",
    "alpha_range_narrow = np.linspace(0.1, 2, 200)\n",
    "l1_ratio_range_narrow = np.linspace(0.7, 0.9, 20)\n",
    "\n",
    "param_grid_narrow = {\n",
    "    'alpha': alpha_range_narrow,\n",
    "    'l1_ratio': l1_ratio_range_narrow,\n",
    "}\n",
    "\n",
    "# Setup GridSearchCV with the narrowed range\n",
    "grid_search_narrow = GridSearchCV(elastic_net, param_grid=param_grid_narrow, cv=5, scoring='neg_mean_squared_error')\n",
    "grid_search_narrow.fit(X_train, y_train)\n",
    "\n",
    "# Best parameters found\n",
    "# Get the best parameters from the broad search\n",
    "best_alpha_broad = grid_search_narrow.best_params_['alpha']\n",
    "best_l1_ratio_broad = grid_search_narrow.best_params_['l1_ratio']\n",
    "print(\"Best parameters found: \", grid_search_narrow.best_params_)\n",
    "print(\"Best score found: \", grid_search_narrow.best_score_)\n",
    "\n",
    "y_pred = grid_search_narrow.predict(X_test)\n",
    "\n",
    "# Evaluate the performance of the model\n",
    "from sklearn.metrics import mean_squared_error\n",
    "print(\"Test MSE: \", mean_squared_error(y_test, y_pred))\n"
   ]
  },
  {
   "cell_type": "code",
   "execution_count": null,
   "metadata": {},
   "outputs": [],
   "source": [
    "# Best model fit with all data\n",
    "best_model = ElasticNet(alpha=best_alpha_broad, l1_ratio=best_l1_ratio_broad)\n",
    "best_model.fit(X_scaled, y)\n",
    "\n",
    "y_pred = best_model.predict(X_scaled)\n",
    "\n",
    "# Evaluate the performance of the model\n",
    "from sklearn.metrics import mean_squared_error\n",
    "print(\"Test MSE: \", mean_squared_error(y, y_pred)) # We can use that as noise for the RMSE"
   ]
  },
  {
   "cell_type": "code",
   "execution_count": null,
   "metadata": {},
   "outputs": [],
   "source": [
    "# Coefficents\n",
    "coefficients = best_model.coef_\n",
    "intercept = best_model.intercept_\n",
    "\n",
    "columns = [\"intercept\"] + list(X.columns)\n",
    "data = [[intercept] + list(coefficients)]\n",
    "coef_df = pd.DataFrame(data=data, columns=columns)\n",
    "\n",
    "print(\"Droped to zero:\", coef_df.loc[:, (coef_df == 0).any(axis=0)].shape[1])\n",
    "coef_df.loc[:, (coef_df != 0).any(axis=0)]"
   ]
  },
  {
   "cell_type": "code",
   "execution_count": null,
   "metadata": {},
   "outputs": [],
   "source": [
    "# Plot for the coefficients needed"
   ]
  },
  {
   "cell_type": "markdown",
   "metadata": {},
   "source": [
    "# Expected"
   ]
  },
  {
   "cell_type": "markdown",
   "metadata": {},
   "source": [
    "## RMSE"
   ]
  },
  {
   "cell_type": "code",
   "execution_count": null,
   "metadata": {},
   "outputs": [],
   "source": [
    "# Bootstrap\n",
    "num_samples = 10000\n",
    "\n",
    "samples_mse = []\n",
    "for _ in range(num_samples):\n",
    "    # Sample\n",
    "    sample_df = filtered_df.sample(n=len(filtered_df), replace=True, random_state=np.random.randint(0, 10000))\n",
    "\n",
    "    # Split to X and Y\n",
    "    X = sample_df.iloc[:, 1:]  # Feature matrix\n",
    "    y = sample_df.iloc[:, 0]   # Target variable\n",
    "\n",
    "    # Standarize the continous variables\n",
    "    cont_X_df = X[cont_features_filtered]\n",
    "    scaler = StandardScaler()\n",
    "    cont_X_scaled = scaler.fit_transform(cont_X_df)\n",
    "\n",
    "    # Concatenate final X\n",
    "    X_scaled = np.concatenate([cont_X_scaled, X[dummy_features].to_numpy()], axis=1)\n",
    "\n",
    "    # Split the data into training and testing sets\n",
    "    X_train, X_test, y_train, y_test = train_test_split(X_scaled, y, test_size=0.2, random_state=42)\n",
    "\n",
    "    # Fit and predict\n",
    "    s_model = ElasticNet(alpha=best_alpha_broad, l1_ratio=best_l1_ratio_broad)\n",
    "    s_model.fit(X_train, y_train)\n",
    "    y_pred = s_model.predict(X_test)\n",
    "\n",
    "    # Evaluate the performance of the model\n",
    "    from sklearn.metrics import mean_squared_error\n",
    "    mse_error = mean_squared_error(y_test, y_pred)\n",
    "    print(\"Test MSE: \", mse_error)\n",
    "    samples_mse.append(mse_error)"
   ]
  },
  {
   "cell_type": "code",
   "execution_count": null,
   "metadata": {},
   "outputs": [],
   "source": [
    "# Calculate RMSE values\n",
    "rmse_values = np.sqrt(samples_mse)\n",
    "\n",
    "# Plotting the histogram of RMSE values\n",
    "plt.hist(rmse_values, bins=100, edgecolor='black')\n",
    "plt.axvline(np.mean(rmse_values), color='r', linestyle='--', label=f'Mean: {np.mean(rmse_values):.2f}')\n",
    "plt.legend()\n",
    "\n",
    "plt.title('Histogram of RMSE Values')\n",
    "plt.xlabel('RMSE')\n",
    "plt.ylabel('Frequency')\n",
    "plt.show()"
   ]
  },
  {
   "cell_type": "code",
   "execution_count": null,
   "metadata": {},
   "outputs": [],
   "source": [
    "# Exclude features with many missing values\n",
    "include_features = [x for x in data_df.columns if x not in excl_features]\n",
    "filtered_df = data_df[include_features]\n",
    "\n",
    "# Fill missing values with the median of the feature\n",
    "cont_features_filtered = [x for x in include_features if 'x' in x]\n",
    "filtered_df[cont_features_filtered] = filtered_df[cont_features_filtered].fillna(filtered_df[cont_features_filtered].median())\n",
    "\n",
    "# One hot encoding\n",
    "cate_features_filtered = [x for x in include_features if 'C' in x]\n",
    "filtered_df = pd.get_dummies(filtered_df, columns=cate_features_filtered)\n",
    "dummy_features = [x for x in filtered_df.columns if 'C' in x]\n",
    "filtered_df[dummy_features] = filtered_df[dummy_features].astype(int)\n",
    "filtered_df.head(5)"
   ]
  },
  {
   "cell_type": "markdown",
   "metadata": {},
   "source": [
    "## ynew predictions"
   ]
  },
  {
   "cell_type": "code",
   "execution_count": null,
   "metadata": {},
   "outputs": [],
   "source": [
    "# Old\n",
    "include_features = [x for x in data_df.columns if x not in (excl_features+['y'])]\n",
    "data_df_old = data_df[include_features]\n",
    "data_df_old[\"new\"] = 0\n",
    "\n",
    "# New\n",
    "data_df_new = pd.read_csv('data/case1Data_Xnew.txt', sep=', ')\n",
    "data_df_new = data_df_new[include_features]\n",
    "data_df_new[\"new\"] = 1\n",
    "\n",
    "# Combine\n",
    "data_df_all = pd.concat([data_df_old, data_df_new], axis=0)\n",
    "data_df_all"
   ]
  },
  {
   "cell_type": "code",
   "execution_count": null,
   "metadata": {},
   "outputs": [],
   "source": [
    "# Preprocessing\n",
    "\n",
    "# Fill missing values with the median of the feature\n",
    "cont_features_filtered = [x for x in include_features if 'x' in x]\n",
    "data_df_all[cont_features_filtered] = data_df_all[cont_features_filtered].fillna(data_df_all[cont_features_filtered].median())\n",
    "\n",
    "# One hot encoding\n",
    "cate_features_filtered = [x for x in include_features if 'C' in x]\n",
    "data_df_all = pd.get_dummies(data_df_all, columns=cate_features_filtered)\n",
    "dummy_features = [x for x in data_df_all.columns if 'C' in x]\n",
    "data_df_all[dummy_features] = data_df_all[dummy_features].astype(int)\n",
    "data_df_all.head(5)"
   ]
  },
  {
   "cell_type": "code",
   "execution_count": null,
   "metadata": {},
   "outputs": [],
   "source": [
    "# Standarize the continous variables\n",
    "cont_X_df_all = data_df_all[cont_features_filtered]\n",
    "scaler = StandardScaler()\n",
    "cont_X_scaled_all = scaler.fit_transform(cont_X_df_all)\n",
    "\n",
    "# Concatenate final X\n",
    "X_scaled_all = np.concatenate([cont_X_scaled_all, data_df_all[dummy_features].to_numpy()], axis=1)\n",
    "X_scaled_all.shape"
   ]
  },
  {
   "cell_type": "code",
   "execution_count": null,
   "metadata": {},
   "outputs": [],
   "source": [
    "cont_X_df_all = data_df_all[cont_features_filtered]\n",
    "scaler = StandardScaler()\n",
    "cont_X_scaled_all = scaler.fit_transform(cont_X_df_all)\n",
    "\n",
    "# Update the original DataFrame with the scaled values\n",
    "scaled_df_all = data_df_all.copy()\n",
    "cont_X_scaled_df = pd.DataFrame(cont_X_scaled_all, columns=cont_features_filtered)\n",
    "scaled_df_all[cont_features_filtered] = cont_X_scaled_df\n",
    "scaled_df_all"
   ]
  },
  {
   "cell_type": "code",
   "execution_count": null,
   "metadata": {},
   "outputs": [],
   "source": [
    "# Get only the new data\n",
    "x_new = scaled_df_all[scaled_df_all[\"new\"] == 1].drop(columns=\"new\").to_numpy()\n",
    "y_pred_new = best_model.predict(x_new)\n",
    "y_pred_new"
   ]
  }
 ],
 "metadata": {
  "kernelspec": {
   "display_name": "venv",
   "language": "python",
   "name": "python3"
  },
  "language_info": {
   "codemirror_mode": {
    "name": "ipython",
    "version": 3
   },
   "file_extension": ".py",
   "mimetype": "text/x-python",
   "name": "python",
   "nbconvert_exporter": "python",
   "pygments_lexer": "ipython3",
   "version": "3.11.3"
  }
 },
 "nbformat": 4,
 "nbformat_minor": 2
}
